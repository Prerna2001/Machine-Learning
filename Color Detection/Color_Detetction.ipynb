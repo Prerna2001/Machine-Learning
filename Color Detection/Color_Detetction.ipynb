{
 "cells": [
  {
   "cell_type": "code",
   "execution_count": 33,
   "metadata": {},
   "outputs": [],
   "source": [
    "import cv2\n",
    "import pandas as pd"
   ]
  },
  {
   "cell_type": "code",
   "execution_count": 32,
   "metadata": {},
   "outputs": [],
   "source": [
    "img_path = 'colorpic.jpg'\n",
    "csv_path = 'colors.csv'"
   ]
  },
  {
   "cell_type": "code",
   "execution_count": 37,
   "metadata": {},
   "outputs": [],
   "source": [
    "index = ['color', 'color_name', 'hex', 'R', 'G', 'B']"
   ]
  },
  {
   "cell_type": "code",
   "execution_count": 43,
   "metadata": {},
   "outputs": [
    {
     "data": {
      "text/html": [
       "<div>\n",
       "<style scoped>\n",
       "    .dataframe tbody tr th:only-of-type {\n",
       "        vertical-align: middle;\n",
       "    }\n",
       "\n",
       "    .dataframe tbody tr th {\n",
       "        vertical-align: top;\n",
       "    }\n",
       "\n",
       "    .dataframe thead th {\n",
       "        text-align: right;\n",
       "    }\n",
       "</style>\n",
       "<table border=\"1\" class=\"dataframe\">\n",
       "  <thead>\n",
       "    <tr style=\"text-align: right;\">\n",
       "      <th></th>\n",
       "      <th>color</th>\n",
       "      <th>color_name</th>\n",
       "      <th>hex</th>\n",
       "      <th>R</th>\n",
       "      <th>G</th>\n",
       "      <th>B</th>\n",
       "    </tr>\n",
       "  </thead>\n",
       "  <tbody>\n",
       "    <tr>\n",
       "      <th>0</th>\n",
       "      <td>air_force_blue_raf</td>\n",
       "      <td>Air Force Blue (Raf)</td>\n",
       "      <td>#5d8aa8</td>\n",
       "      <td>93</td>\n",
       "      <td>138</td>\n",
       "      <td>168</td>\n",
       "    </tr>\n",
       "    <tr>\n",
       "      <th>1</th>\n",
       "      <td>air_force_blue_usaf</td>\n",
       "      <td>Air Force Blue (Usaf)</td>\n",
       "      <td>#00308f</td>\n",
       "      <td>0</td>\n",
       "      <td>48</td>\n",
       "      <td>143</td>\n",
       "    </tr>\n",
       "    <tr>\n",
       "      <th>2</th>\n",
       "      <td>air_superiority_blue</td>\n",
       "      <td>Air Superiority Blue</td>\n",
       "      <td>#72a0c1</td>\n",
       "      <td>114</td>\n",
       "      <td>160</td>\n",
       "      <td>193</td>\n",
       "    </tr>\n",
       "    <tr>\n",
       "      <th>3</th>\n",
       "      <td>alabama_crimson</td>\n",
       "      <td>Alabama Crimson</td>\n",
       "      <td>#a32638</td>\n",
       "      <td>163</td>\n",
       "      <td>38</td>\n",
       "      <td>56</td>\n",
       "    </tr>\n",
       "    <tr>\n",
       "      <th>4</th>\n",
       "      <td>alice_blue</td>\n",
       "      <td>Alice Blue</td>\n",
       "      <td>#f0f8ff</td>\n",
       "      <td>240</td>\n",
       "      <td>248</td>\n",
       "      <td>255</td>\n",
       "    </tr>\n",
       "  </tbody>\n",
       "</table>\n",
       "</div>"
      ],
      "text/plain": [
       "                  color             color_name      hex    R    G    B\n",
       "0    air_force_blue_raf   Air Force Blue (Raf)  #5d8aa8   93  138  168\n",
       "1   air_force_blue_usaf  Air Force Blue (Usaf)  #00308f    0   48  143\n",
       "2  air_superiority_blue   Air Superiority Blue  #72a0c1  114  160  193\n",
       "3       alabama_crimson        Alabama Crimson  #a32638  163   38   56\n",
       "4            alice_blue             Alice Blue  #f0f8ff  240  248  255"
      ]
     },
     "execution_count": 43,
     "metadata": {},
     "output_type": "execute_result"
    }
   ],
   "source": [
    "df = pd.read_csv(csv_path, names=index)\n",
    "df.head()"
   ]
  },
  {
   "cell_type": "code",
   "execution_count": 45,
   "metadata": {},
   "outputs": [
    {
     "data": {
      "text/plain": [
       "865"
      ]
     },
     "execution_count": 45,
     "metadata": {},
     "output_type": "execute_result"
    }
   ],
   "source": [
    "len(df) # no. of rows"
   ]
  },
  {
   "cell_type": "code",
   "execution_count": 90,
   "metadata": {},
   "outputs": [
    {
     "data": {
      "text/plain": [
       "array([[[118,  35,  20],\n",
       "        [117,  34,  19],\n",
       "        [114,  32,  20],\n",
       "        ...,\n",
       "        [ 49,  73,  19],\n",
       "        [ 50,  73,  19],\n",
       "        [ 50,  73,  19]],\n",
       "\n",
       "       [[117,  34,  19],\n",
       "        [117,  34,  19],\n",
       "        [115,  34,  19],\n",
       "        ...,\n",
       "        [ 53,  78,  20],\n",
       "        [ 54,  79,  21],\n",
       "        [ 55,  80,  22]],\n",
       "\n",
       "       [[117,  37,  20],\n",
       "        [117,  37,  20],\n",
       "        [116,  35,  20],\n",
       "        ...,\n",
       "        [ 50,  81,  12],\n",
       "        [ 49,  80,  11],\n",
       "        [ 48,  79,  10]],\n",
       "\n",
       "       ...,\n",
       "\n",
       "       [[118, 123, 122],\n",
       "        [119, 124, 123],\n",
       "        [120, 124, 125],\n",
       "        ...,\n",
       "        [ 38,  32,  33],\n",
       "        [ 38,  30,  31],\n",
       "        [ 36,  28,  29]],\n",
       "\n",
       "       [[119, 124, 123],\n",
       "        [119, 124, 123],\n",
       "        [120, 124, 125],\n",
       "        ...,\n",
       "        [ 40,  34,  35],\n",
       "        [ 40,  32,  33],\n",
       "        [ 39,  31,  32]],\n",
       "\n",
       "       [[119, 124, 123],\n",
       "        [119, 124, 123],\n",
       "        [120, 124, 125],\n",
       "        ...,\n",
       "        [ 40,  35,  36],\n",
       "        [ 42,  34,  35],\n",
       "        [ 41,  33,  34]]], dtype=uint8)"
      ]
     },
     "execution_count": 90,
     "metadata": {},
     "output_type": "execute_result"
    }
   ],
   "source": [
    "img = cv2.imread(img_path)\n",
    "#img = cv2.resize(img, (800,600))\n",
    "img"
   ]
  },
  {
   "cell_type": "code",
   "execution_count": 91,
   "metadata": {},
   "outputs": [],
   "source": [
    "clicked = False\n",
    "r = g = b = xpos = ypos = 0"
   ]
  },
  {
   "cell_type": "code",
   "execution_count": 92,
   "metadata": {},
   "outputs": [],
   "source": [
    "def get_color_name(R, G, B):\n",
    "    minimum = 1000\n",
    "    for i in range(len(df)):\n",
    "        d = abs(R - int(df.loc[i,'R'])) + abs(G - int(df.loc[i,'G'])) + abs(B - int(df.loc[i,'B']))\n",
    "        if d <= minimum:\n",
    "            minimum = d\n",
    "            cname = df.loc[i, 'color_name']\n",
    "    return cname"
   ]
  },
  {
   "cell_type": "code",
   "execution_count": 93,
   "metadata": {},
   "outputs": [],
   "source": [
    "def draw_function(event, x, y, flags, params):\n",
    "    if event == cv2.EVENT_LBUTTONDBLCLK:\n",
    "        global clicked, r, g, b, xpos, ypos\n",
    "        clicked = True\n",
    "        xpos = x\n",
    "        ypos = y\n",
    "        b, g, r = img[y, x]\n",
    "        b = int(b)\n",
    "        g = int(g)\n",
    "        r = int(r)"
   ]
  },
  {
   "cell_type": "code",
   "execution_count": 94,
   "metadata": {},
   "outputs": [],
   "source": [
    "cv2.namedWindow('Image')\n",
    "cv2.setMouseCallback('Image', draw_function)\n",
    "\n",
    "while True:\n",
    "    cv2.imshow('Image', img)\n",
    "    if clicked:\n",
    "        cv2.rectangle(img, (20,20), (750,60), (b, g, r), -1)\n",
    "        text = get_color_name(r, g, b) + \" R = \"+ str(r) + \" B = \" + str(b) + \" G = \" + str(g)\n",
    "        cv2.putText(img, text, (50,50), 2, 0.8, (255, 255, 255), 2, cv2.LINE_AA)\n",
    "        if r+b+g >= 600:\n",
    "            cv2.putText(img, text, (50,50), 2, 0.8, (0, 0, 0), 2, cv2.LINE_AA)\n",
    "    if cv2.waitKey(20) & 0xFF == 27 :\n",
    "        break\n",
    "\n",
    "cv2.destroyAllWindows()\n",
    "\n",
    "        \n",
    "    \n",
    "\n",
    "# cv2.imshow('Image', img)\n",
    "# cv2.waitKey(0)\n",
    "# cv2.destroyAllWindows()\n",
    "\n"
   ]
  },
  {
   "cell_type": "code",
   "execution_count": null,
   "metadata": {},
   "outputs": [],
   "source": []
  }
 ],
 "metadata": {
  "kernelspec": {
   "display_name": "Python 3",
   "language": "python",
   "name": "python3"
  },
  "language_info": {
   "codemirror_mode": {
    "name": "ipython",
    "version": 3
   },
   "file_extension": ".py",
   "mimetype": "text/x-python",
   "name": "python",
   "nbconvert_exporter": "python",
   "pygments_lexer": "ipython3",
   "version": "3.7.6"
  }
 },
 "nbformat": 4,
 "nbformat_minor": 4
}
